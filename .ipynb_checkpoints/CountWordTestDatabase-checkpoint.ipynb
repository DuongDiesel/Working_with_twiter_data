{
 "cells": [
  {
   "cell_type": "code",
   "execution_count": 1,
   "metadata": {},
   "outputs": [],
   "source": [
    "import pandas as pd\n",
    "import MeCab"
   ]
  },
  {
   "cell_type": "code",
   "execution_count": 2,
   "metadata": {},
   "outputs": [],
   "source": [
    "tagger = MeCab.Tagger('-Ochasen')"
   ]
  },
  {
   "cell_type": "code",
   "execution_count": 3,
   "metadata": {},
   "outputs": [],
   "source": [
    "#nhap data\n",
    "df = pd.read_csv('C:/Users/Soen/Desktop/duong/ki 6/xu li sns/1cot.csv', encoding='utf-8', sep=',')\n",
    "a,b = df.shape"
   ]
  },
  {
   "cell_type": "code",
   "execution_count": 4,
   "metadata": {},
   "outputs": [],
   "source": [
    "#duyet qua tung bai viet mot,luu lai cac tu (tru dau cach,dau , cac thu),luu lai so lan xuat hien\n",
    "data = {}\n",
    "for i in range(a):\n",
    "\n",
    "    data[i] = {}\n",
    "\n",
    "    ###doc tung van ban 1\n",
    "    node = tagger.parseToNode(df.iloc[i].values[0])\n",
    "\n",
    "    while node:\n",
    "        #neu nhu surface ko bi trung\n",
    "        if node.surface not in data[i] and str(node.surface) != \"、\" and str(\n",
    "                node.surface) != \"。\" and str(node.surface) != \"\" and str(\n",
    "                    node.surface) != \"・\":\n",
    "\n",
    "            #nhap surface\n",
    "            data[i][node.surface] = {}\n",
    "\n",
    "            #nhap feature\n",
    "            node_features = node.feature.split(\",\")\n",
    "            data[i][node.surface][\"feature\"] = node_features\n",
    "\n",
    "            #nhap count\n",
    "            data[i][node.surface][\"count\"] = 1\n",
    "        #tang them count neu tu da xuat hien\n",
    "        elif node.surface in data[i] and str(node.surface) != \"、\" and str(\n",
    "                node.surface) != \"。\" and str(node.surface) != \"\":\n",
    "            data[i][node.surface][\"count\"] = int(\n",
    "                data[i][node.surface][\"count\"]) + 1\n",
    "\n",
    "        node = node.next"
   ]
  },
  {
   "cell_type": "code",
   "execution_count": 5,
   "metadata": {},
   "outputs": [
    {
     "name": "stdout",
     "output_type": "stream",
     "text": [
      "4\n"
     ]
    }
   ],
   "source": [
    "#tim xem 1 tu xuat hien bn lan\n",
    "a, b = df.shape\n",
    "sum = 0\n",
    "wordsearch = \"選手\"\n",
    "for i in range(a):\n",
    "    if wordsearch in data[i]:\n",
    "        sum += data[i][wordsearch][\"count\"]\n",
    "print(sum)"
   ]
  },
  {
   "cell_type": "code",
   "execution_count": 6,
   "metadata": {},
   "outputs": [
    {
     "name": "stdout",
     "output_type": "stream",
     "text": [
      "tu 選手 xuat hien trong 2 van ban trong tong so 7 van ban\n",
      "chiem so phan tram la :28.57142857142857\n"
     ]
    }
   ],
   "source": [
    "#tim xem so luong van ban ma tu do xuat hien\n",
    "a, b = df.shape\n",
    "sumVB = 0\n",
    "wordsearch = \"選手\"\n",
    "for i in range(a):\n",
    "    if wordsearch in data[i]:\n",
    "        sumVB += 1\n",
    "        #print(f\"xuat hien o van ban thu:{i}\")\n",
    "        #print(f\"sumVB :{sumVB}\")\n",
    "print(\n",
    "    f\"tu {wordsearch} xuat hien trong {sumVB} van ban trong tong so {a} van ban\"\n",
    ")\n",
    "print(f\"chiem so phan tram la :{(sumVB/a)*100}\")"
   ]
  },
  {
   "cell_type": "code",
   "execution_count": 7,
   "metadata": {},
   "outputs": [],
   "source": [
    "searchkey1 = \"名詞\"\n",
    "searchkey1a = \"接尾\"  #hau to\n",
    "searchkey1b = \"人名\"\n",
    "searchkey1b = \"固有名詞\"  #danh tu rieng\n",
    "searchkey2 = \"一般\"\n",
    "searchkey3 = \"助詞\"\n",
    "searchkey3a = \"助動詞\"\n",
    "searchkey3b = \"格助詞\"\n",
    "searchkey4 = \"記号\"\n",
    "searchkey4a = \"句点\"\n",
    "searchkey5 = \"動詞\"\n",
    "searchkey6 = \"自立\""
   ]
  },
  {
   "cell_type": "markdown",
   "metadata": {},
   "source": [
    "<h1>In ra thong tin ve danh tu xuat hien nhieu</h1>"
   ]
  },
  {
   "cell_type": "code",
   "execution_count": 8,
   "metadata": {},
   "outputs": [],
   "source": [
    "#xuat ra danh tu co tan so xuat hien trong nhieu van ban nhat va tong so lan xuat hien\n",
    "datadocDanhtu = {}\n",
    "\n",
    "for i in range(a):\n",
    "    for word in data[i]:\n",
    "\n",
    "        if word not in datadocDanhtu and (\n",
    "                data[i][word][\"feature\"][0] == searchkey1\n",
    "                and data[i][word][\"feature\"][1] == searchkey2):\n",
    "            #nhap surface\n",
    "            datadocDanhtu[word] = {}\n",
    "\n",
    "            #nhap feature\n",
    "            temp = list(data[i][word][\"feature\"])[0]\n",
    "            datadocDanhtu[word][\"feature\"] = temp\n",
    "\n",
    "            #nhap countdoc start\n",
    "            datadocDanhtu[word][\"countdoc\"] = 1\n",
    "            #nhap countsum start\n",
    "            datadocDanhtu[word][\"countsum\"] = data[i][word][\"count\"]\n",
    "\n",
    "        if word in datadocDanhtu:\n",
    "            #tang the countdoc 1 don vi\n",
    "            datadocDanhtu[word][\"countdoc\"] = int(\n",
    "                datadocDanhtu[word][\"countdoc\"]) + 1\n",
    "            #cong them so lan xuat hien cua tu word\n",
    "            datadocDanhtu[word][\"countsum\"] += data[i][word][\"count\"]"
   ]
  },
  {
   "cell_type": "code",
   "execution_count": 9,
   "metadata": {},
   "outputs": [
    {
     "name": "stdout",
     "output_type": "stream",
     "text": [
      "[('男子', {'feature': '名詞', 'countdoc': 3, 'countsum': 5}), ('選手', {'feature': '名詞', 'countdoc': 3, 'countsum': 6}), ('プロ', {'feature': '名詞', 'countdoc': 3, 'countsum': 3})]\n"
     ]
    }
   ],
   "source": [
    "#sap xep bong bong theo countdoc\n",
    "\n",
    "my_list = list(datadocDanhtu.items())\n",
    "\n",
    "for mx in range(len(my_list) - 1, -1, -1):\n",
    "    swapped = False\n",
    "    for i in range(mx):\n",
    "        if my_list[i][1][\"countdoc\"] < my_list[i + 1][1][\"countdoc\"]:\n",
    "            my_list[i], my_list[i + 1] = my_list[i + 1], my_list[i]\n",
    "            swapped = True\n",
    "    if not swapped:\n",
    "        break\n",
    "print(my_list[0:3])"
   ]
  },
  {
   "cell_type": "code",
   "execution_count": 10,
   "metadata": {},
   "outputs": [
    {
     "name": "stdout",
     "output_type": "stream",
     "text": [
      "[('選手', {'feature': '名詞', 'countdoc': 3, 'countsum': 6}), ('男子', {'feature': '名詞', 'countdoc': 3, 'countsum': 5}), ('出身', {'feature': '名詞', 'countdoc': 2, 'countsum': 4})]\n"
     ]
    }
   ],
   "source": [
    "#sap xep bong bong theo countsum\n",
    "\n",
    "my_list = list(datadocDanhtu.items())\n",
    "\n",
    "for mx in range(len(my_list) - 1, -1, -1):\n",
    "    swapped = False\n",
    "    for i in range(mx):\n",
    "        if my_list[i][1][\"countsum\"] < my_list[i + 1][1][\"countsum\"]:\n",
    "            my_list[i], my_list[i + 1] = my_list[i + 1], my_list[i]\n",
    "            swapped = True\n",
    "    if not swapped:\n",
    "        break\n",
    "print(my_list[0:3])"
   ]
  },
  {
   "cell_type": "markdown",
   "metadata": {},
   "source": [
    "<h1>in ra thong tin ve dong tu xuat hien nhieu</h1>"
   ]
  },
  {
   "cell_type": "code",
   "execution_count": 11,
   "metadata": {},
   "outputs": [],
   "source": [
    "#xuat ra danh tu co tan so xuat hien trong nhieu van ban nhat va tong so lan xuat hien\n",
    "datadocDongtu = {}\n",
    "\n",
    "for i in range(a):\n",
    "    for word in data[i]:\n",
    "\n",
    "        if word not in datadocDongtu and (\n",
    "                data[i][word][\"feature\"][0] == searchkey5\n",
    "                or data[i][word][\"feature\"][1] == searchkey5):\n",
    "            #nhap surface\n",
    "            datadocDongtu[word] = {}\n",
    "\n",
    "            #nhap feature\n",
    "            temp = list(data[i][word][\"feature\"])[0]\n",
    "            datadocDongtu[word][\"feature\"] = temp\n",
    "\n",
    "            #nhap countdoc start\n",
    "            datadocDongtu[word][\"countdoc\"] = 1\n",
    "            #nhap countsum start\n",
    "            datadocDongtu[word][\"countsum\"] = data[i][word][\"count\"]\n",
    "\n",
    "        if word in datadocDongtu:\n",
    "            #tang the countdoc 1 don vi\n",
    "            datadocDongtu[word][\"countdoc\"] = int(\n",
    "                datadocDongtu[word][\"countdoc\"]) + 1\n",
    "            #cong them so lan xuat hien cua tu word\n",
    "            datadocDongtu[word][\"countsum\"] += data[i][word][\"count\"]"
   ]
  },
  {
   "cell_type": "code",
   "execution_count": 12,
   "metadata": {},
   "outputs": [
    {
     "name": "stdout",
     "output_type": "stream",
     "text": [
      "[('し', {'feature': '動詞', 'countdoc': 3, 'countsum': 3}), ('転じ', {'feature': '動詞', 'countdoc': 2, 'countsum': 2}), ('果たし', {'feature': '動詞', 'countdoc': 2, 'countsum': 2})]\n"
     ]
    }
   ],
   "source": [
    "#sap xep bong bong theo countdoc\n",
    "\n",
    "my_list = list(datadocDongtu.items())\n",
    "\n",
    "for mx in range(len(my_list) - 1, -1, -1):\n",
    "    swapped = False\n",
    "    for i in range(mx):\n",
    "        if my_list[i][1][\"countdoc\"] < my_list[i + 1][1][\"countdoc\"]:\n",
    "            my_list[i], my_list[i + 1] = my_list[i + 1], my_list[i]\n",
    "            swapped = True\n",
    "    if not swapped:\n",
    "        break\n",
    "print(my_list[0:3])"
   ]
  },
  {
   "cell_type": "code",
   "execution_count": 13,
   "metadata": {},
   "outputs": [
    {
     "name": "stdout",
     "output_type": "stream",
     "text": [
      "[('し', {'feature': '動詞', 'countdoc': 3, 'countsum': 3}), ('転じ', {'feature': '動詞', 'countdoc': 2, 'countsum': 2}), ('果たし', {'feature': '動詞', 'countdoc': 2, 'countsum': 2})]\n"
     ]
    }
   ],
   "source": [
    "#sap xep bong bong theo countsum\n",
    "\n",
    "my_list = list(datadocDongtu.items())\n",
    "\n",
    "for mx in range(len(my_list) - 1, -1, -1):\n",
    "    swapped = False\n",
    "    for i in range(mx):\n",
    "        if my_list[i][1][\"countsum\"] < my_list[i + 1][1][\"countsum\"]:\n",
    "            my_list[i], my_list[i + 1] = my_list[i + 1], my_list[i]\n",
    "            swapped = True\n",
    "    if not swapped:\n",
    "        break\n",
    "print(my_list[0:3])"
   ]
  },
  {
   "cell_type": "code",
   "execution_count": null,
   "metadata": {},
   "outputs": [],
   "source": []
  }
 ],
 "metadata": {
  "kernelspec": {
   "display_name": "Python 3",
   "language": "python",
   "name": "python3"
  },
  "language_info": {
   "codemirror_mode": {
    "name": "ipython",
    "version": 3
   },
   "file_extension": ".py",
   "mimetype": "text/x-python",
   "name": "python",
   "nbconvert_exporter": "python",
   "pygments_lexer": "ipython3",
   "version": "3.7.1"
  }
 },
 "nbformat": 4,
 "nbformat_minor": 4
}
