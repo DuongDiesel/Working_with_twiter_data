{
 "cells": [
  {
   "cell_type": "markdown",
   "metadata": {},
   "source": [
    "!apt-get -q -y install sudo file mecab libmecab-dev mecab-ipadic-utf8 git curl python-mecab\n",
    "!apt-get -q -y install swig \n",
    "!pip install mecab-python3"
   ]
  },
  {
   "cell_type": "markdown",
   "metadata": {},
   "source": [
    "from google.colab import drive\n",
    "drive.mount('/content/drive')"
   ]
  },
  {
   "cell_type": "code",
   "execution_count": 1,
   "metadata": {
    "ExecuteTime": {
     "end_time": "2020-01-07T00:10:12.664240Z",
     "start_time": "2020-01-07T00:10:11.757760Z"
    }
   },
   "outputs": [],
   "source": [
    "import pandas as pd\n",
    "import MeCab"
   ]
  },
  {
   "cell_type": "markdown",
   "metadata": {},
   "source": [
    "#nhap data\n",
    "df = pd.read_csv('/content/drive/My Drive/Colab Notebooks/xu li sns/jatwitter-streaming-20170926-twtext.csv', encoding='utf-8', sep=',')\n",
    "a,b = df.shape"
   ]
  },
  {
   "cell_type": "code",
   "execution_count": 2,
   "metadata": {
    "ExecuteTime": {
     "end_time": "2020-01-07T00:10:12.673236Z",
     "start_time": "2020-01-07T00:10:12.667239Z"
    }
   },
   "outputs": [],
   "source": [
    "tagger = MeCab.Tagger('-Ochasen')"
   ]
  },
  {
   "cell_type": "code",
   "execution_count": 3,
   "metadata": {
    "ExecuteTime": {
     "end_time": "2020-01-07T00:10:13.803586Z",
     "start_time": "2020-01-07T00:10:12.678232Z"
    }
   },
   "outputs": [],
   "source": [
    "#nhap data\n",
    "df = pd.read_csv('C:/Users/Soen/Desktop/duong/ki 6/xu li sns/jatwitter-streaming-20170926-twtext.csv', encoding='utf-8', sep=',')\n",
    "a,b = df.shape"
   ]
  },
  {
   "cell_type": "code",
   "execution_count": 4,
   "metadata": {
    "ExecuteTime": {
     "end_time": "2020-01-07T00:15:15.294925Z",
     "start_time": "2020-01-07T00:10:13.805586Z"
    }
   },
   "outputs": [],
   "source": [
    "#duyet qua tung bai viet mot,luu lai cac tu (tru dau cach,dau , cac thu),luu lai so lan xuat hien\n",
    "data = {}\n",
    "for i in range(a):\n",
    "\n",
    "    data[i] = {}\n",
    "\n",
    "    ###doc tung van ban 1\n",
    "    node = tagger.parseToNode(df.iloc[i].values[0])\n",
    "\n",
    "    while node:\n",
    "        #neu nhu surface ko bi trung\n",
    "        if node.surface not in data[i] and str(node.surface) != \"、\" and str(\n",
    "                node.surface) != \"。\" and str(node.surface) != \"\" and str(\n",
    "                    node.surface) != \"・\":\n",
    "\n",
    "            #nhap surface\n",
    "            data[i][node.surface] = {}\n",
    "\n",
    "            #nhap feature\n",
    "            node_features = node.feature.split(\",\")\n",
    "            data[i][node.surface][\"feature\"] = node_features\n",
    "\n",
    "            #nhap count\n",
    "            data[i][node.surface][\"count\"] = 1\n",
    "        #tang them count neu tu da xuat hien\n",
    "        elif node.surface in data[i] and str(node.surface) != \"、\" and str(\n",
    "                node.surface) != \"。\" and str(node.surface) != \"\":\n",
    "            data[i][node.surface][\"count\"] = int(\n",
    "                data[i][node.surface][\"count\"]) + 1\n",
    "\n",
    "        node = node.next"
   ]
  },
  {
   "cell_type": "code",
   "execution_count": 5,
   "metadata": {
    "ExecuteTime": {
     "end_time": "2020-01-07T00:15:16.154948Z",
     "start_time": "2020-01-07T00:15:15.310551Z"
    }
   },
   "outputs": [
    {
     "name": "stdout",
     "output_type": "stream",
     "text": [
      "1224\n"
     ]
    }
   ],
   "source": [
    "#tim xem 1 tu xuat hien bn lan\n",
    "a, b = df.shape\n",
    "sum = 0\n",
    "wordsearch = \"選手\"\n",
    "for i in range(a):\n",
    "    if wordsearch in data[i]:\n",
    "        sum += data[i][wordsearch][\"count\"]\n",
    "print(sum)"
   ]
  },
  {
   "cell_type": "code",
   "execution_count": 6,
   "metadata": {
    "ExecuteTime": {
     "end_time": "2020-01-07T00:15:16.367826Z",
     "start_time": "2020-01-07T00:15:16.176934Z"
    }
   },
   "outputs": [
    {
     "name": "stdout",
     "output_type": "stream",
     "text": [
      "tu 選手 xuat hien trong 933 van ban trong tong so 358492 van ban\n",
      "chiem so phan tram la :0.26025685370942725\n"
     ]
    }
   ],
   "source": [
    "#tim xem so luong van ban ma tu do xuat hien\n",
    "a, b = df.shape\n",
    "sumVB = 0\n",
    "wordsearch = \"選手\"\n",
    "for i in range(a):\n",
    "    if wordsearch in data[i]:\n",
    "        sumVB += 1\n",
    "        #print(f\"xuat hien o van ban thu:{i}\")\n",
    "        #print(f\"sumVB :{sumVB}\")\n",
    "print(\n",
    "    f\"tu {wordsearch} xuat hien trong {sumVB} van ban trong tong so {a} van ban\"\n",
    ")\n",
    "print(f\"chiem so phan tram la :{(sumVB/a)*100}\")"
   ]
  },
  {
   "cell_type": "code",
   "execution_count": 7,
   "metadata": {
    "ExecuteTime": {
     "end_time": "2020-01-07T00:15:16.384816Z",
     "start_time": "2020-01-07T00:15:16.371823Z"
    }
   },
   "outputs": [],
   "source": [
    "searchkey1 = \"名詞\"\n",
    "searchkey1a = \"接尾\"  #hau to\n",
    "searchkey1b = \"人名\"\n",
    "searchkey1b = \"固有名詞\"  #danh tu rieng\n",
    "searchkey2 = \"一般\"\n",
    "searchkey3 = \"助詞\"\n",
    "searchkey3a = \"助動詞\"\n",
    "searchkey3b = \"格助詞\"\n",
    "searchkey4 = \"記号\"\n",
    "searchkey4a = \"句点\"\n",
    "searchkey5 = \"動詞\"\n",
    "searchkey6 = \"自立\""
   ]
  },
  {
   "cell_type": "markdown",
   "metadata": {},
   "source": [
    "<h1>In ra thong tin ve danh tu xuat hien nhieu</h1>"
   ]
  },
  {
   "cell_type": "code",
   "execution_count": 8,
   "metadata": {
    "ExecuteTime": {
     "end_time": "2020-01-07T00:16:18.403624Z",
     "start_time": "2020-01-07T00:15:16.387814Z"
    }
   },
   "outputs": [],
   "source": [
    "#xuat ra danh tu co tan so xuat hien trong nhieu van ban nhat va tong so lan xuat hien\n",
    "datadocDanhtu = {}\n",
    "\n",
    "for i in range(a):\n",
    "    for word in data[i]:\n",
    "\n",
    "        if word not in datadocDanhtu and (\n",
    "                data[i][word][\"feature\"][0] == searchkey1\n",
    "                and data[i][word][\"feature\"][1] == searchkey2):\n",
    "            #nhap surface\n",
    "            datadocDanhtu[word] = {}\n",
    "\n",
    "            #nhap feature\n",
    "            temp = list(data[i][word][\"feature\"])[0]\n",
    "            datadocDanhtu[word][\"feature\"] = temp\n",
    "\n",
    "            #nhap countdoc start\n",
    "            datadocDanhtu[word][\"countdoc\"] = 1\n",
    "            #nhap countsum start\n",
    "            datadocDanhtu[word][\"countsum\"] = data[i][word][\"count\"]\n",
    "\n",
    "        if word in datadocDanhtu:\n",
    "            #tang the countdoc 1 don vi\n",
    "            datadocDanhtu[word][\"countdoc\"] = int(\n",
    "                datadocDanhtu[word][\"countdoc\"]) + 1\n",
    "            #cong them so lan xuat hien cua tu word\n",
    "            datadocDanhtu[word][\"countsum\"] += data[i][word][\"count\"]"
   ]
  },
  {
   "cell_type": "code",
   "execution_count": 9,
   "metadata": {
    "ExecuteTime": {
     "end_time": "2020-01-07T00:16:22.312280Z",
     "start_time": "2020-01-07T00:16:18.460594Z"
    }
   },
   "outputs": [],
   "source": [
    "my_list1 = list(datadocDanhtu.items())"
   ]
  },
  {
   "cell_type": "code",
   "execution_count": 10,
   "metadata": {
    "ExecuteTime": {
     "end_time": "2020-01-07T00:16:22.448901Z",
     "start_time": "2020-01-07T00:16:22.324271Z"
    }
   },
   "outputs": [
    {
     "name": "stdout",
     "output_type": "stream",
     "text": [
      "tu https xuat hien trong 117378 van ban ,chiem 32.74215324191335%,voi tong so lan xuat hien trong dataset la 128249\n",
      "tu t xuat hien trong 116925 van ban ,chiem 32.61579058946922%,voi tong so lan xuat hien trong dataset la 128986\n",
      "tu co xuat hien trong 114538 van ban ,chiem 31.949945884426988%,voi tong so lan xuat hien trong dataset la 124788\n",
      "tu RT xuat hien trong 112137 van ban ,chiem 31.280195931847853%,voi tong so lan xuat hien trong dataset la 123365\n"
     ]
    }
   ],
   "source": [
    "my_list1a = sorted(my_list1, key=lambda my_list: my_list[1][\"countdoc\"])\n",
    "\n",
    "#my_list1a[-1][1][\"countdoc\"]\n",
    "#my_list1a[-1][1][\"countsum\"]\n",
    "for i in range(1,5):\n",
    "    print(\n",
    "        f'tu {my_list1a[-i][0]} xuat hien trong {my_list1a[-i][1][\"countdoc\"]} van ban ,chiem {my_list1a[-i][1][\"countdoc\"]/a*100}%,voi tong so lan xuat hien trong dataset la {my_list1a[-i][1][\"countsum\"]}'\n",
    "    )"
   ]
  },
  {
   "cell_type": "code",
   "execution_count": 11,
   "metadata": {
    "ExecuteTime": {
     "end_time": "2020-01-07T00:16:22.531431Z",
     "start_time": "2020-01-07T00:16:22.453898Z"
    }
   },
   "outputs": [
    {
     "name": "stdout",
     "output_type": "stream",
     "text": [
      "tu t xuat hien trong 116925 van ban,chiem 32.61579058946922%, voi tong so lan xuat hien trong dataset la 128986\n",
      "tu https xuat hien trong 117378 van ban,chiem 32.74215324191335%, voi tong so lan xuat hien trong dataset la 128249\n",
      "tu co xuat hien trong 114538 van ban,chiem 31.949945884426988%, voi tong so lan xuat hien trong dataset la 124788\n",
      "tu RT xuat hien trong 112137 van ban,chiem 31.280195931847853%, voi tong so lan xuat hien trong dataset la 123365\n"
     ]
    }
   ],
   "source": [
    "my_list1b = sorted(my_list1, key=lambda my_list: my_list[1][\"countsum\"])\n",
    "my_list1b[-100]\n",
    "\n",
    "for i in range(1, 5):\n",
    "    print(\n",
    "        f'tu {my_list1b[-i][0]} xuat hien trong {my_list1b[-i][1][\"countdoc\"]} van ban,chiem {my_list1b[-i][1][\"countdoc\"]/a*100}%, voi tong so lan xuat hien trong dataset la {my_list1b[-i][1][\"countsum\"]}'\n",
    "    )"
   ]
  },
  {
   "cell_type": "markdown",
   "metadata": {},
   "source": [
    "<h1>in ra thong tin ve dong tu xuat hien nhieu</h1>"
   ]
  },
  {
   "cell_type": "code",
   "execution_count": 12,
   "metadata": {
    "ExecuteTime": {
     "end_time": "2020-01-07T00:17:25.095239Z",
     "start_time": "2020-01-07T00:16:22.543425Z"
    }
   },
   "outputs": [],
   "source": [
    "#xuat ra danh tu co tan so xuat hien trong nhieu van ban nhat va tong so lan xuat hien\n",
    "datadocDongtu = {}\n",
    "\n",
    "for i in range(a):\n",
    "    for word in data[i]:\n",
    "\n",
    "        if word not in datadocDongtu and (\n",
    "                data[i][word][\"feature\"][0] == searchkey5\n",
    "                or data[i][word][\"feature\"][1] == searchkey5):\n",
    "            #nhap surface\n",
    "            datadocDongtu[word] = {}\n",
    "\n",
    "            #nhap feature\n",
    "            temp = list(data[i][word][\"feature\"])[0]\n",
    "            datadocDongtu[word][\"feature\"] = temp\n",
    "\n",
    "            #nhap countdoc start\n",
    "            datadocDongtu[word][\"countdoc\"] = 1\n",
    "            #nhap countsum start\n",
    "            datadocDongtu[word][\"countsum\"] = data[i][word][\"count\"]\n",
    "\n",
    "        if word in datadocDongtu:\n",
    "            #tang the countdoc 1 don vi\n",
    "            datadocDongtu[word][\"countdoc\"] = int(\n",
    "                datadocDongtu[word][\"countdoc\"]) + 1\n",
    "            #cong them so lan xuat hien cua tu word\n",
    "            datadocDongtu[word][\"countsum\"] += data[i][word][\"count\"]"
   ]
  },
  {
   "cell_type": "code",
   "execution_count": 13,
   "metadata": {
    "ExecuteTime": {
     "end_time": "2020-01-07T00:17:26.200892Z",
     "start_time": "2020-01-07T00:17:25.116226Z"
    }
   },
   "outputs": [],
   "source": [
    "my_list2 = list(datadocDongtu.items())"
   ]
  },
  {
   "cell_type": "code",
   "execution_count": 14,
   "metadata": {
    "ExecuteTime": {
     "end_time": "2020-01-07T00:17:26.228876Z",
     "start_time": "2020-01-07T00:17:26.205889Z"
    }
   },
   "outputs": [
    {
     "name": "stdout",
     "output_type": "stream",
     "text": [
      "tu て xuat hien trong 122957 van ban, chiem 34.29839438536983%, voi tong so lan xuat hien trong dataset la 199151\n",
      "tu に xuat hien trong 112107 van ban, chiem 31.27182754426877%, voi tong so lan xuat hien trong dataset la 169994\n",
      "tu が xuat hien trong 97050 van ban, chiem 27.071733818327886%, voi tong so lan xuat hien trong dataset la 140245\n",
      "tu で xuat hien trong 91446 van ban, chiem 25.508519018555504%, voi tong so lan xuat hien trong dataset la 124498\n"
     ]
    }
   ],
   "source": [
    "my_list2a = sorted(my_list2, key=lambda my_list: my_list[1][\"countdoc\"])\n",
    "\n",
    "for i in range(1, 5):\n",
    "    print(\n",
    "        f'tu {my_list2a[-i][0]} xuat hien trong {my_list2a[-i][1][\"countdoc\"]} van ban, chiem {my_list2a[-i][1][\"countdoc\"]/a*100}%, voi tong so lan xuat hien trong dataset la {my_list2a[-i][1][\"countsum\"]}'\n",
    "    )"
   ]
  },
  {
   "cell_type": "code",
   "execution_count": 15,
   "metadata": {
    "ExecuteTime": {
     "end_time": "2020-01-07T00:17:26.254942Z",
     "start_time": "2020-01-07T00:17:26.231874Z"
    }
   },
   "outputs": [
    {
     "name": "stdout",
     "output_type": "stream",
     "text": [
      "tu て xuat hien trong 122957 van ban, chiem 34.29839438536983%, voi tong so lan xuat hien trong dataset la 199151\n",
      "tu に xuat hien trong 112107 van ban, chiem 31.27182754426877%, voi tong so lan xuat hien trong dataset la 169994\n",
      "tu が xuat hien trong 97050 van ban, chiem 27.071733818327886%, voi tong so lan xuat hien trong dataset la 140245\n",
      "tu で xuat hien trong 91446 van ban, chiem 25.508519018555504%, voi tong so lan xuat hien trong dataset la 124498\n"
     ]
    }
   ],
   "source": [
    "my_list2b = sorted(my_list2, key=lambda my_list: my_list[1][\"countsum\"])\n",
    "\n",
    "for i in range(1, 5):\n",
    "    print(\n",
    "        f'tu {my_list2b[-i][0]} xuat hien trong {my_list2b[-i][1][\"countdoc\"]} van ban, chiem {my_list2b[-i][1][\"countdoc\"]/a*100}%, voi tong so lan xuat hien trong dataset la {my_list2b[-i][1][\"countsum\"]}'\n",
    "    )"
   ]
  }
 ],
 "metadata": {
  "kernelspec": {
   "display_name": "Python 3",
   "language": "python",
   "name": "python3"
  },
  "language_info": {
   "codemirror_mode": {
    "name": "ipython",
    "version": 3
   },
   "file_extension": ".py",
   "mimetype": "text/x-python",
   "name": "python",
   "nbconvert_exporter": "python",
   "pygments_lexer": "ipython3",
   "version": "3.7.1"
  }
 },
 "nbformat": 4,
 "nbformat_minor": 4
}
